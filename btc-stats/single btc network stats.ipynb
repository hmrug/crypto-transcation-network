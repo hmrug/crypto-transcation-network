{
 "cells": [
  {
   "cell_type": "code",
   "execution_count": 1,
   "metadata": {},
   "outputs": [],
   "source": [
    "import networkx as nx\n",
    "import numpy as np\n",
    "import os\n",
    "import io\n",
    "import json\n",
    "from multiprocessing import Process\n",
    "import multiprocessing\n",
    "import matplotlib.pyplot as plt"
   ]
  },
  {
   "cell_type": "code",
   "execution_count": 3,
   "metadata": {},
   "outputs": [],
   "source": [
    "g = nx.read_graphml(\"../data/NET-btc-heur_0-week/2012-04-23.graphml\")\n",
    "\n",
    "def degree_dist(G):\n",
    "    degs = {}\n",
    "    for n in G.nodes():\n",
    "        deg = G.degree(n)\n",
    "        if deg not in degs:\n",
    "            degs[deg] = 0\n",
    "        degs[deg] += 1\n",
    "        \n",
    "    return sorted(degs.items())\n",
    "\n",
    "G_degree_dist = degree_dist(g)\n",
    "G_x = [k for (k,v) in G_degree_dist]\n",
    "G_y = [v/len(g.nodes()) for (k,v) in G_degree_dist]\n",
    "\n"
   ]
  },
  {
   "cell_type": "code",
   "execution_count": 7,
   "metadata": {},
   "outputs": [],
   "source": [
    "def out_degree_dist(G):\n",
    "    degs = {}\n",
    "    for n in G.nodes():\n",
    "        deg = G.out_degree(n)\n",
    "        if deg not in degs:\n",
    "            degs[deg] = 0\n",
    "        degs[deg] += 1\n",
    "        \n",
    "    return sorted(degs.items())\n",
    "\n",
    "\n",
    "G_out_degree_dist = out_degree_dist(g)\n",
    "G_x = [k for (k,v) in G_out_degree_dist]\n",
    "G_y = [v/len(g.nodes()) for (k,v) in G_out_degree_dist]\n"
   ]
  },
  {
   "cell_type": "code",
   "execution_count": 87,
   "metadata": {},
   "outputs": [],
   "source": [
    "def degree_dist(G, degree_type=None):\n",
    "    degs = {}\n",
    "    for n in G.nodes():\n",
    "        if degree_type == \"in\":\n",
    "            deg = G.in_degree(n)\n",
    "        elif degree_type == \"out\":\n",
    "            deg = G.out_degree(n)\n",
    "        else:\n",
    "            deg = G.degree(n)\n",
    "        \n",
    "        if deg not in degs:\n",
    "            degs[deg] = 0\n",
    "        degs[deg] += 1\n",
    "    \n",
    "    G_y = [v/len(G.nodes()) for (k,v) in sorted(degs.items())]    \n",
    "    G_x = [i for i in range(len(G_y))]\n",
    "    \n",
    "    return G_x,G_y\n",
    "\n",
    "\n",
    "x,G_y = degree_dist(g,\"out\")"
   ]
  },
  {
   "cell_type": "code",
   "execution_count": 88,
   "metadata": {},
   "outputs": [
    {
     "data": {
      "text/plain": [
       "<matplotlib.collections.PathCollection at 0x22f2a06b448>"
      ]
     },
     "execution_count": 88,
     "metadata": {},
     "output_type": "execute_result"
    },
    {
     "data": {
      "image/png": "[encoded data removed]",
      "text/plain": [
       "<Figure size 432x288 with 1 Axes>"
      ]
     },
     "metadata": {
      "needs_background": "light"
     },
     "output_type": "display_data"
    }
   ],
   "source": [
    "#plt.xscale('log')\n",
    "plt.yscale('log')\n",
    "plt.scatter(x, G_y)\n",
    "    "
   ]
  },
  {
   "cell_type": "code",
   "execution_count": 48,
   "metadata": {},
   "outputs": [
    {
     "data": {
      "text/plain": [
       "OutEdgeView([])"
      ]
     },
     "execution_count": 48,
     "metadata": {},
     "output_type": "execute_result"
    }
   ],
   "source": [
    "g.remove_edges_from(list(g.edges()))\n"
   ]
  },
  {
   "cell_type": "code",
   "execution_count": 10,
   "metadata": {},
   "outputs": [],
   "source": [
    "g = nx.read_graphml(\"../data/NET-btc-heur_0-week/2010-10-18.graphml\")\n",
    "nx.density(g)\n",
    "\n",
    "import random \n",
    "\n",
    "\n",
    "def degree_lst(degree_dict):\n",
    "    arr = []\n",
    "    for key,value in degree_dict.items():\n",
    "        if (value!=0):\n",
    "            arr.append((key))\n",
    "    return arr\n",
    "\n",
    "\n",
    "## permute edges while fixing node degree and direction\n",
    "def randomize(g):\n",
    "    \n",
    "    newg = g.copy()\n",
    "    ## delete all edges\n",
    "    newg.clear_edges()\n",
    "    \n",
    "    inDeg = dict(g.in_degree())\n",
    "    outDeg = dict(g.out_degree())\n",
    "    \n",
    "    inDeglst = in_degree_lst(inDeg)\n",
    "    outDeglst = out_degree_lst(outDeg)\n",
    "    \n",
    "    while len(inDeglst) > 0:\n",
    "        \n",
    "        u = random.choice(outDeglst)\n",
    "        v = random.choice(inDeglst)\n",
    "        \n",
    "        newg.add_edge(u,v)\n",
    "        \n",
    "        outDeg[u] -= 1\n",
    "        inDeg[v] -= 1\n",
    "        \n",
    "        inDeglst = degree_lst(inDeg)\n",
    "        outDeglst = degree_lst(outDeg)\n",
    " \n",
    "    return newg"
   ]
  },
  {
   "cell_type": "code",
   "execution_count": 11,
   "metadata": {
    "scrolled": true
   },
   "outputs": [],
   "source": [
    "def bowtie_analysis(G):\n",
    "    # reverse all direction of the graph\n",
    "    GT = nx.reverse(G, copy=True)\n",
    "    # calculate SSC\n",
    "    scc = list(nx.strongly_connected_components(G))\n",
    "    if len(scc) == 0:\n",
    "        return{}\n",
    "\n",
    "    SSC = max(scc, key=len)\n",
    "\n",
    "    # take any node n from SSC and do a depth first search\n",
    "    # through directed graph beginning from node n\n",
    "    v_any = list(SSC)[0]\n",
    "    DFS_G = set(nx.dfs_tree(G, v_any).nodes())\n",
    "    DFS_GT = set(nx.dfs_tree(GT, v_any).nodes())\n",
    "    OUT = DFS_G - SSC\n",
    "    IN = DFS_GT - SSC\n",
    "    V_rest = set(G.nodes()) - SSC - OUT - IN\n",
    "\n",
    "    TUBES = set()\n",
    "    INTENDRILS = set()\n",
    "    OUTTENDRILS = set()\n",
    "    OTHER = set()\n",
    "\n",
    "    for v in V_rest:\n",
    "        # irv => in reaches node v\n",
    "        irv = len(IN & set(nx.dfs_tree(GT, v).nodes())) is not 0\n",
    "        # vro => node v reaches out\n",
    "        vro = len(OUT & set(nx.dfs_tree(G, v).nodes())) is not 0\n",
    "        if irv and vro:\n",
    "            TUBES.add(v)\n",
    "        elif irv and not vro:\n",
    "            INTENDRILS.add(v)\n",
    "        elif not irv and vro:\n",
    "            OUTTENDRILS.add(v)\n",
    "        elif not irv and not vro:\n",
    "            OTHER.add(v)\n",
    "\n",
    "    FRINGE = set()\n",
    "    DISCONNECTED = set()\n",
    "    for o in OTHER:\n",
    "        # orIT => node o reaches INTENDRILS\n",
    "        orIT = len(INTENDRILS & set(nx.dfs_tree(G, o))) is not 0\n",
    "        # OTro => OUTTERNDIRLS reaches node o\n",
    "        OTro = len(OUTTENDRILS & set(nx.dfs_tree(GT, o))) is not 0\n",
    "        if orIT or OTro:\n",
    "            FRINGE.add(o)\n",
    "        else:\n",
    "            DISCONNECTED.add(o)\n",
    "\n",
    "    TENDRILS = INTENDRILS.union(OUTTENDRILS)\n",
    "\n",
    "    def component_result(name, graph_nodes):\n",
    "        return{name: len(graph_nodes),\n",
    "               }\n",
    "\n",
    "    result_dict = dict()\n",
    "    result_dict.update(component_result(\"nodes\", G.nodes()))\n",
    "    result_dict.update(component_result(\"ssc\", SSC))\n",
    "    result_dict.update(component_result(\"in\", IN))\n",
    "    result_dict.update(component_result(\"out\", OUT))\n",
    "    result_dict.update(component_result(\"tubes\", TUBES))\n",
    "    result_dict.update(component_result(\"tendrils\", TENDRILS))\n",
    "    result_dict.update(component_result(\"fringe\", FRINGE))\n",
    "    result_dict.update(component_result(\"disconnected\", DISCONNECTED))\n",
    "\n",
    "    return result_dict\n"
   ]
  },
  {
   "cell_type": "code",
   "execution_count": 16,
   "metadata": {},
   "outputs": [],
   "source": [
    "g = nx.read_graphml(\"../data/NET-btc-heur_0-week/2012-12-31.graphml\")"
   ]
  },
  {
   "cell_type": "code",
   "execution_count": null,
   "metadata": {},
   "outputs": [],
   "source": [
    "g_rand = randomize(g)"
   ]
  },
  {
   "cell_type": "code",
   "execution_count": null,
   "metadata": {},
   "outputs": [],
   "source": [
    "print(bowtie_analysis(g))"
   ]
  },
  {
   "cell_type": "code",
   "execution_count": null,
   "metadata": {},
   "outputs": [],
   "source": [
    "print(bowtie_analysis(g_rand))"
   ]
  },
  {
   "cell_type": "code",
   "execution_count": 121,
   "metadata": {},
   "outputs": [
    {
     "data": {
      "text/plain": [
       "0.26842267433289113"
      ]
     },
     "execution_count": 121,
     "metadata": {},
     "output_type": "execute_result"
    }
   ],
   "source": [
    "G = nx.barabasi_albert_graph(50, 3)\n",
    "seed = 1\n",
    "G_random = nx.algorithms.swap.double_edge_swap(\n",
    "        G, \n",
    "        nswap=len(G.edges())/2,\n",
    "        seed=seed, \n",
    "        max_tries=100*len(G.edges())\n",
    "    )\n",
    "nx.average_clustering(G)"
   ]
  },
  {
   "cell_type": "code",
   "execution_count": 78,
   "metadata": {},
   "outputs": [
    {
     "data": {
      "text/plain": [
       "0.22859267443942372"
      ]
     },
     "execution_count": 78,
     "metadata": {},
     "output_type": "execute_result"
    }
   ],
   "source": [
    "nx.average_clustering(G)"
   ]
  },
  {
   "cell_type": "code",
   "execution_count": 6,
   "metadata": {},
   "outputs": [
    {
     "ename": "FileNotFoundError",
     "evalue": "[WinError 3] Das System kann den angegebenen Pfad nicht finden: 'data/NET-btc-heur_0-week'",
     "output_type": "error",
     "traceback": [
      "\u001b[1;31m---------------------------------------------------------------------------\u001b[0m",
      "\u001b[1;31mFileNotFoundError\u001b[0m                         Traceback (most recent call last)",
      "\u001b[1;32m<ipython-input-6-b2b7be2db1b2>\u001b[0m in \u001b[0;36m<module>\u001b[1;34m\u001b[0m\n\u001b[0;32m      6\u001b[0m \u001b[1;33m\u001b[0m\u001b[0m\n\u001b[0;32m      7\u001b[0m \u001b[0mcore_dict\u001b[0m \u001b[1;33m=\u001b[0m \u001b[1;33m{\u001b[0m\u001b[1;33m}\u001b[0m\u001b[1;33m\u001b[0m\u001b[1;33m\u001b[0m\u001b[0m\n\u001b[1;32m----> 8\u001b[1;33m \u001b[0mnp_files\u001b[0m \u001b[1;33m=\u001b[0m \u001b[0mnp\u001b[0m\u001b[1;33m.\u001b[0m\u001b[0marray\u001b[0m\u001b[1;33m(\u001b[0m\u001b[0mos\u001b[0m\u001b[1;33m.\u001b[0m\u001b[0mlistdir\u001b[0m\u001b[1;33m(\u001b[0m\u001b[1;34m\"data/NET-btc-heur_0-week\"\u001b[0m\u001b[1;33m)\u001b[0m\u001b[1;33m)\u001b[0m\u001b[1;33m\u001b[0m\u001b[1;33m\u001b[0m\u001b[0m\n\u001b[0m\u001b[0;32m      9\u001b[0m \u001b[0mdirectory\u001b[0m \u001b[1;33m=\u001b[0m \u001b[1;34m\"data/NET-btc-heur_0-week\"\u001b[0m\u001b[1;33m\u001b[0m\u001b[1;33m\u001b[0m\u001b[0m\n\u001b[0;32m     10\u001b[0m \u001b[0mchunk_lst\u001b[0m \u001b[1;33m=\u001b[0m \u001b[0mnp\u001b[0m\u001b[1;33m.\u001b[0m\u001b[0marray_split\u001b[0m\u001b[1;33m(\u001b[0m\u001b[0mnp_files\u001b[0m\u001b[1;33m,\u001b[0m \u001b[0mnr_cores\u001b[0m\u001b[1;33m)\u001b[0m\u001b[1;33m\u001b[0m\u001b[1;33m\u001b[0m\u001b[0m\n",
      "\u001b[1;31mFileNotFoundError\u001b[0m: [WinError 3] Das System kann den angegebenen Pfad nicht finden: 'data/NET-btc-heur_0-week'"
     ]
    }
   ],
   "source": [
    "import time\n",
    "start_time = time.time()\n",
    "\n",
    "\n",
    "nr_cores = multiprocessing.cpu_count()\n",
    "\n",
    "core_dict = {}\n",
    "np_files = np.array(os.listdir(\"data/NET-btc-heur_0-week\"))\n",
    "directory = \"data/NET-btc-heur_0-week\"\n",
    "chunk_lst = np.array_split(np_files, nr_cores)\n",
    "\n",
    "for i in range(nr_cores):\n",
    "    process_name = f\"p{i}\"\n",
    "    file_name = f\"test{i}.json\"\n",
    "\n",
    "    with io.open(os.path.join(file_name), 'w') as db_file:\n",
    "        db_file.write(json.dumps({}))\n",
    "\n",
    "    core_dict[process_name] = Process(target = files_walker(list(chunk_lst[i]),file_name, directory))\n",
    "    \n",
    "    core_dict[process_name].start()\n",
    "\n",
    "    #core_dict[process_name].join()\n",
    "\n",
    "print(\"--- %s seconds ---\" % (time.time() - start_time))"
   ]
  },
  {
   "cell_type": "code",
   "execution_count": null,
   "metadata": {},
   "outputs": [],
   "source": []
  },
  {
   "cell_type": "code",
   "execution_count": null,
   "metadata": {},
   "outputs": [],
   "source": []
  }
 ],
 "metadata": {
  "kernelspec": {
   "display_name": "Python 3",
   "language": "python",
   "name": "python3"
  },
  "language_info": {
   "codemirror_mode": {
    "name": "ipython",
    "version": 3
   },
   "file_extension": ".py",
   "mimetype": "text/x-python",
   "name": "python",
   "nbconvert_exporter": "python",
   "pygments_lexer": "ipython3",
   "version": "3.7.7"
  }
 },
 "nbformat": 4,
 "nbformat_minor": 4
}
