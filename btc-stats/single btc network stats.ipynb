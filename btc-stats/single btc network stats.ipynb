{
 "cells": [
  {
   "cell_type": "code",
   "execution_count": 2,
   "metadata": {},
   "outputs": [],
   "source": [
    "import networkx as nx\n",
    "import numpy as np\n",
    "import os\n",
    "import io\n",
    "import json\n",
    "from multiprocessing import Process\n",
    "import multiprocessing\n",
    "import matplotlib.pyplot as plt"
   ]
  },
  {
   "cell_type": "code",
   "execution_count": 3,
   "metadata": {},
   "outputs": [],
   "source": [
    "g = nx.read_graphml(\"../data/NET-btc-heur_0-week/2012-04-23.graphml\")\n",
    "\n",
    "def degree_dist(G):\n",
    "    degs = {}\n",
    "    for n in G.nodes():\n",
    "        deg = G.degree(n)\n",
    "        if deg not in degs:\n",
    "            degs[deg] = 0\n",
    "        degs[deg] += 1\n",
    "        \n",
    "    return sorted(degs.items())\n",
    "\n",
    "G_degree_dist = degree_dist(g)\n",
    "G_x = [k for (k,v) in G_degree_dist]\n",
    "G_y = [v/len(g.nodes()) for (k,v) in G_degree_dist]\n",
    "\n"
   ]
  },
  {
   "cell_type": "code",
   "execution_count": 4,
   "metadata": {},
   "outputs": [],
   "source": [
    "def out_degree_dist(G):\n",
    "    degs = {}\n",
    "    for n in G.nodes():\n",
    "        deg = G.out_degree(n)\n",
    "        if deg not in degs:\n",
    "            degs[deg] = 0\n",
    "        degs[deg] += 1\n",
    "        \n",
    "    return sorted(degs.items())\n",
    "\n",
    "\n",
    "G_out_degree_dist = out_degree_dist(g)\n",
    "G_x = [k for (k,v) in G_out_degree_dist]\n",
    "G_y = [v/len(g.nodes()) for (k,v) in G_out_degree_dist]\n"
   ]
  },
  {
   "cell_type": "code",
   "execution_count": 5,
   "metadata": {},
   "outputs": [],
   "source": [
    "def in_degree_dist(G):\n",
    "    degs = {}\n",
    "    for n in G.nodes():\n",
    "        deg = G.in_degree(n)\n",
    "        if deg not in degs:\n",
    "            degs[deg] = 0\n",
    "        degs[deg] += 1\n",
    "        \n",
    "    return sorted(degs.items())\n",
    "\n",
    "\n",
    "\n",
    "G_in_degree_dist = in_degree_dist(g)\n",
    "G_x = [k for (k,v) in G_in_degree_dist]\n",
    "G_y = [v/len(g.nodes()) for (k,v) in G_in_degree_dist]"
   ]
  },
  {
   "cell_type": "code",
   "execution_count": 6,
   "metadata": {},
   "outputs": [
    {
     "data": {
      "text/plain": [
       "<matplotlib.collections.PathCollection at 0x21df4233e08>"
      ]
     },
     "execution_count": 6,
     "metadata": {},
     "output_type": "execute_result"
    },
    {
     "data": {
      "image/png": "[encoded data removed]",
      "text/plain": [
       "<Figure size 432x288 with 1 Axes>"
      ]
     },
     "metadata": {
      "needs_background": "light"
     },
     "output_type": "display_data"
    }
   ],
   "source": [
    "#plt.xscale('log')\n",
    "plt.yscale('log')\n",
    "plt.scatter(G_x, G_y)\n",
    "    "
   ]
  },
  {
   "cell_type": "code",
   "execution_count": 7,
   "metadata": {},
   "outputs": [
    {
     "data": {
      "text/plain": [
       "4.575182970876192e-05"
      ]
     },
     "execution_count": 7,
     "metadata": {},
     "output_type": "execute_result"
    }
   ],
   "source": [
    "nx.density(g)"
   ]
  },
  {
   "cell_type": "code",
   "execution_count": 8,
   "metadata": {},
   "outputs": [],
   "source": [
    "g = nx.read_graphml(\"../data/NET-btc-heur_0-week/2010-10-18.graphml\")\n",
    "nx.density(g)\n",
    "\n",
    "def randomize(g):\n",
    "    graph = g.copy()\n",
    "    undirected_graph = graph.to_undirected()\n",
    "    nswap=np.random.randint(1,len(undirected_graph.edges())/2)\n",
    "    max_tries=100*len(undirected_graph.edges())\n",
    "    seed = np.random.randint(1,len(g))\n",
    "    nx.algorithms.swap.double_edge_swap(undirected_graph, nswap=nswap,seed=seed, max_tries=max_tries)\n",
    "    return undirected_graph.to_directed()\n"
   ]
  },
  {
   "cell_type": "code",
   "execution_count": 15,
   "metadata": {
    "scrolled": true
   },
   "outputs": [
    {
     "data": {
      "text/plain": [
       "0.023853379989138352"
      ]
     },
     "execution_count": 15,
     "metadata": {},
     "output_type": "execute_result"
    }
   ],
   "source": [
    "g_random = randomize(g)\n",
    "nx.average_clustering(g_random)\n",
    "nx.degree_assortativity_coefficient(g)"
   ]
  },
  {
   "cell_type": "code",
   "execution_count": 121,
   "metadata": {},
   "outputs": [
    {
     "data": {
      "text/plain": [
       "0.26842267433289113"
      ]
     },
     "execution_count": 121,
     "metadata": {},
     "output_type": "execute_result"
    }
   ],
   "source": [
    "G = nx.barabasi_albert_graph(50, 3)\n",
    "seed = 1\n",
    "G_random = nx.algorithms.swap.double_edge_swap(\n",
    "        G, \n",
    "        nswap=len(G.edges())/2,\n",
    "        seed=seed, \n",
    "        max_tries=100*len(G.edges())\n",
    "    )\n",
    "nx.average_clustering(G)"
   ]
  },
  {
   "cell_type": "code",
   "execution_count": 78,
   "metadata": {},
   "outputs": [
    {
     "data": {
      "text/plain": [
       "0.22859267443942372"
      ]
     },
     "execution_count": 78,
     "metadata": {},
     "output_type": "execute_result"
    }
   ],
   "source": [
    "nx.average_clustering(G)"
   ]
  },
  {
   "cell_type": "code",
   "execution_count": 6,
   "metadata": {},
   "outputs": [
    {
     "ename": "FileNotFoundError",
     "evalue": "[WinError 3] Das System kann den angegebenen Pfad nicht finden: 'data/NET-btc-heur_0-week'",
     "output_type": "error",
     "traceback": [
      "\u001b[1;31m---------------------------------------------------------------------------\u001b[0m",
      "\u001b[1;31mFileNotFoundError\u001b[0m                         Traceback (most recent call last)",
      "\u001b[1;32m<ipython-input-6-b2b7be2db1b2>\u001b[0m in \u001b[0;36m<module>\u001b[1;34m\u001b[0m\n\u001b[0;32m      6\u001b[0m \u001b[1;33m\u001b[0m\u001b[0m\n\u001b[0;32m      7\u001b[0m \u001b[0mcore_dict\u001b[0m \u001b[1;33m=\u001b[0m \u001b[1;33m{\u001b[0m\u001b[1;33m}\u001b[0m\u001b[1;33m\u001b[0m\u001b[1;33m\u001b[0m\u001b[0m\n\u001b[1;32m----> 8\u001b[1;33m \u001b[0mnp_files\u001b[0m \u001b[1;33m=\u001b[0m \u001b[0mnp\u001b[0m\u001b[1;33m.\u001b[0m\u001b[0marray\u001b[0m\u001b[1;33m(\u001b[0m\u001b[0mos\u001b[0m\u001b[1;33m.\u001b[0m\u001b[0mlistdir\u001b[0m\u001b[1;33m(\u001b[0m\u001b[1;34m\"data/NET-btc-heur_0-week\"\u001b[0m\u001b[1;33m)\u001b[0m\u001b[1;33m)\u001b[0m\u001b[1;33m\u001b[0m\u001b[1;33m\u001b[0m\u001b[0m\n\u001b[0m\u001b[0;32m      9\u001b[0m \u001b[0mdirectory\u001b[0m \u001b[1;33m=\u001b[0m \u001b[1;34m\"data/NET-btc-heur_0-week\"\u001b[0m\u001b[1;33m\u001b[0m\u001b[1;33m\u001b[0m\u001b[0m\n\u001b[0;32m     10\u001b[0m \u001b[0mchunk_lst\u001b[0m \u001b[1;33m=\u001b[0m \u001b[0mnp\u001b[0m\u001b[1;33m.\u001b[0m\u001b[0marray_split\u001b[0m\u001b[1;33m(\u001b[0m\u001b[0mnp_files\u001b[0m\u001b[1;33m,\u001b[0m \u001b[0mnr_cores\u001b[0m\u001b[1;33m)\u001b[0m\u001b[1;33m\u001b[0m\u001b[1;33m\u001b[0m\u001b[0m\n",
      "\u001b[1;31mFileNotFoundError\u001b[0m: [WinError 3] Das System kann den angegebenen Pfad nicht finden: 'data/NET-btc-heur_0-week'"
     ]
    }
   ],
   "source": [
    "import time\n",
    "start_time = time.time()\n",
    "\n",
    "\n",
    "nr_cores = multiprocessing.cpu_count()\n",
    "\n",
    "core_dict = {}\n",
    "np_files = np.array(os.listdir(\"data/NET-btc-heur_0-week\"))\n",
    "directory = \"data/NET-btc-heur_0-week\"\n",
    "chunk_lst = np.array_split(np_files, nr_cores)\n",
    "\n",
    "for i in range(nr_cores):\n",
    "    process_name = f\"p{i}\"\n",
    "    file_name = f\"test{i}.json\"\n",
    "\n",
    "    with io.open(os.path.join(file_name), 'w') as db_file:\n",
    "        db_file.write(json.dumps({}))\n",
    "\n",
    "    core_dict[process_name] = Process(target = files_walker(list(chunk_lst[i]),file_name, directory))\n",
    "    \n",
    "    core_dict[process_name].start()\n",
    "\n",
    "    #core_dict[process_name].join()\n",
    "\n",
    "print(\"--- %s seconds ---\" % (time.time() - start_time))"
   ]
  },
  {
   "cell_type": "code",
   "execution_count": null,
   "metadata": {},
   "outputs": [],
   "source": []
  },
  {
   "cell_type": "code",
   "execution_count": null,
   "metadata": {},
   "outputs": [],
   "source": []
  }
 ],
 "metadata": {
  "kernelspec": {
   "display_name": "Python 3",
   "language": "python",
   "name": "python3"
  },
  "language_info": {
   "codemirror_mode": {
    "name": "ipython",
    "version": 3
   },
   "file_extension": ".py",
   "mimetype": "text/x-python",
   "name": "python",
   "nbconvert_exporter": "python",
   "pygments_lexer": "ipython3",
   "version": "3.7.7"
  }
 },
 "nbformat": 4,
 "nbformat_minor": 4
}
