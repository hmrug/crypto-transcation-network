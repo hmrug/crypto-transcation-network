{
 "cells": [
  {
   "cell_type": "code",
   "execution_count": 1,
   "metadata": {},
   "outputs": [],
   "source": [
    "import numpy as np\n",
    "import os\n",
    "import io\n",
    "import json\n",
    "import pandas as pd"
   ]
  },
  {
   "cell_type": "code",
   "execution_count": 14,
   "metadata": {},
   "outputs": [],
   "source": [
    "def create_average_json(name, year):\n",
    "    df_rand1 = pd.read_json(f\"../results/randomized/pre-run/randomized_session1/{year}-01-01_randomized.json\",convert_dates=True)\n",
    "    df_rand2 = pd.read_json(f\"../results/randomized/pre-run/randomized_session2/{year}-01-01_randomized.json\",convert_dates=True)\n",
    "    df_rand3 = pd.read_json(f\"../results/randomized/pre-run/randomized_session3/{year}-01-01_randomized.json\",convert_dates=True)\n",
    "    df_rand4 = pd.read_json(f\"../results/randomized/pre-run/randomized_session4/{year}-01-01_randomized.json\",convert_dates=True)\n",
    "    df_rand5 = pd.read_json(f\"../results/randomized/pre-run/randomized_session5/{year}-01-01_randomized.json\",convert_dates=True)\n",
    "    \n",
    "    bowtie_random_lst = [\n",
    "        list(df_rand1[\"bowtie_random\"][:-2]),\n",
    "        list(df_rand2[\"bowtie_random\"][:-2]),\n",
    "        list(df_rand3[\"bowtie_random\"][:-2]),\n",
    "        list(df_rand4[\"bowtie_random\"][:-2]),\n",
    "        list(df_rand5[\"bowtie_random\"][:-2])]\n",
    "    \n",
    "    \n",
    "    stats_lst = [\n",
    "        list(df_rand1[\"stats_random\"][-2:]),\n",
    "        list(df_rand2[\"stats_random\"][-2:]),\n",
    "        list(df_rand3[\"stats_random\"][-2:]),\n",
    "        list(df_rand4[\"stats_random\"][-2:]),\n",
    "        list(df_rand5[\"stats_random\"][-2:])]\n",
    "    \n",
    "    bowtie_averaged = list(np.mean(bowtie_random_lst,axis=0))\n",
    "    stats_averaged = list(np.mean(stats_lst,axis=0))\n",
    "    \n",
    "    data ={\n",
    "        \"bowtie\":df_rand1[\"bowtie\"][:-2].append(df_rand1[\"stats\"][-2:],ignore_index = False),\n",
    "        \"bowtie_random\": (bowtie_averaged+stats_averaged),\n",
    "    }\n",
    "\n",
    "    df = pd.DataFrame(data)\n",
    "    \n",
    "    bowtie = df.to_dict()\n",
    "    \n",
    "    with open(name, 'w') as json_file:\n",
    "        json_file.write(json.dumps(bowtie))"
   ]
  },
  {
   "cell_type": "code",
   "execution_count": 17,
   "metadata": {},
   "outputs": [],
   "source": [
    "create_average_json(\"randomized_2012.json\", 2012)\n",
    "create_average_json(\"randomized_2013.json\", 2013)\n",
    "create_average_json(\"randomized_2014.json\", 2014)\n",
    "create_average_json(\"randomized_2015.json\", 2015)"
   ]
  }
 ],
 "metadata": {
  "kernelspec": {
   "display_name": "Python 3",
   "language": "python",
   "name": "python3"
  },
  "language_info": {
   "codemirror_mode": {
    "name": "ipython",
    "version": 3
   },
   "file_extension": ".py",
   "mimetype": "text/x-python",
   "name": "python",
   "nbconvert_exporter": "python",
   "pygments_lexer": "ipython3",
   "version": "3.7.7"
  }
 },
 "nbformat": 4,
 "nbformat_minor": 4
}
