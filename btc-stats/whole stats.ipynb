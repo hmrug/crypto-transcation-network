{
 "cells": [
  {
   "cell_type": "code",
   "execution_count": 47,
   "metadata": {},
   "outputs": [],
   "source": [
    "import networkx as nx\n",
    "import numpy as np\n",
    "import os\n",
    "import io\n",
    "import json\n",
    "from multiprocessing import Process\n",
    "import multiprocessing\n",
    "import matplotlib.pyplot as plt\n",
    "from scipy.stats import skew"
   ]
  },
  {
   "cell_type": "code",
   "execution_count": 49,
   "metadata": {},
   "outputs": [],
   "source": [
    "def calculate_btc_stats(g):\n",
    "    g_nodes = len(g.nodes())\n",
    "    g_edges = len(g.edges())\n",
    "    g_density = nx.density(g)\n",
    "    std_in = np.std(list(dict(g.in_degree()).values()))\n",
    "    std_out = np.std(list(dict(g.out_degree()).values()))\n",
    "    skew_in = skew(list(dict(g.in_degree()).values()))\n",
    "    skew_out = skew(list(dict(g.out_degree()).values()))\n",
    "    return (g_nodes, g_edges, g_density, std_in, std_out, skew_in, skew_out)\n",
    "    "
   ]
  },
  {
   "cell_type": "code",
   "execution_count": 51,
   "metadata": {},
   "outputs": [],
   "source": [
    "def files_walker(files, json_output,directory):\n",
    "    d = {}\n",
    "    d[\"g_nodes\"] = []\n",
    "    d[\"g_edges\"] = []\n",
    "    d[\"g_density\"] = []\n",
    "    d[\"std_in\"] = []\n",
    "    d[\"std_out\"] = []\n",
    "    d[\"skew_in\"] = []\n",
    "    d[\"skew_out\"] = []\n",
    "    d[\"date\"] = []\n",
    "    for file in files:\n",
    "        with open(directory+'/'+file, 'r', encoding='utf8', errors='ignore') as f:\n",
    "            G = nx.read_graphml(f)\n",
    "            btc_stats = calculate_btc_stats(G)\n",
    "            d[\"g_nodes\"].append(btc_stats[0])\n",
    "            d[\"g_edges\"].append(btc_stats[1])\n",
    "            d[\"g_density\"].append(btc_stats[2])\n",
    "            d[\"std_in\"].append(btc_stats[3])\n",
    "            d[\"std_out\"].append(btc_stats[4])\n",
    "            d[\"skew_in\"].append(btc_stats[5])\n",
    "            d[\"skew_out\"].append(btc_stats[6])\n",
    "            d[\"date\"].append(file[:-8])\n",
    "    with open(json_output, \"w\") as fi:\n",
    "        fi.write(json.dumps(d))\n",
    "    return True"
   ]
  },
  {
   "cell_type": "code",
   "execution_count": 52,
   "metadata": {},
   "outputs": [
    {
     "name": "stdout",
     "output_type": "stream",
     "text": [
      "--- 94.89020204544067 seconds ---\n"
     ]
    }
   ],
   "source": [
    "import time\n",
    "start_time = time.time()\n",
    "\n",
    "\n",
    "#nr_cores = multiprocessing.cpu_count()\n",
    "\n",
    "core_dict = {}\n",
    "#np_files = np.array(os.listdir(\"../data/NET-btc-heur_0-week\"))\n",
    "files = os.listdir(\"../data/NET-btc-heur_0-week\")\n",
    "directory = \"../data/NET-btc-heur_0-week\"\n",
    "files_walker(files,\"test.json\", directory)\n",
    "#chunk_lst = np.array_split(np_files, nr_cores)\n",
    "\n",
    "#for i in range(nr_cores):\n",
    "#    process_name = f\"p{i}\"\n",
    "#    file_name = f\"test{i}.json\"\n",
    "\n",
    "#    with io.open(os.path.join(file_name), 'w') as db_file:\n",
    "#        db_file.write(json.dumps({}))\n",
    "\n",
    "#    core_dict[process_name] = Process(target = files_walker(list(chunk_lst[i]),file_name, directory))\n",
    "#    \n",
    "#    core_dict[process_name].start()\n",
    "\n",
    "    #core_dict[process_name].join()\n",
    "\n",
    "print(\"--- %s seconds ---\" % (time.time() - start_time))"
   ]
  }
 ],
 "metadata": {
  "kernelspec": {
   "display_name": "Python 3",
   "language": "python",
   "name": "python3"
  },
  "language_info": {
   "codemirror_mode": {
    "name": "ipython",
    "version": 3
   },
   "file_extension": ".py",
   "mimetype": "text/x-python",
   "name": "python",
   "nbconvert_exporter": "python",
   "pygments_lexer": "ipython3",
   "version": "3.7.7"
  }
 },
 "nbformat": 4,
 "nbformat_minor": 4
}
