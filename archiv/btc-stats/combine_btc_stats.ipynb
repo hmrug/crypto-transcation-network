{
 "cells": [
  {
   "cell_type": "code",
   "execution_count": 1,
   "metadata": {},
   "outputs": [],
   "source": [
    "import networkx as nx\n",
    "import numpy as np\n",
    "import os\n",
    "import io\n",
    "import json\n",
    "from multiprocessing import Process\n",
    "import multiprocessing\n",
    "import matplotlib.pyplot as plt"
   ]
  },
  {
   "cell_type": "code",
   "execution_count": 71,
   "metadata": {},
   "outputs": [],
   "source": [
    "def files_walker(files, json_output,directory):\n",
    "    d = {}\n",
    "    d[\"g_nodes\"] = []\n",
    "    d[\"g_edges\"] = []\n",
    "    d[\"g_density\"] = []\n",
    "    d[\"std_in\"] = []\n",
    "    d[\"std_out\"] = []\n",
    "    d[\"skew_in\"] = []\n",
    "    d[\"skew_out\"] = []\n",
    "    d[\"date\"] = []\n",
    "    for file in files:\n",
    "        with open(directory+'/'+file, 'r') as f:\n",
    "            data = json.load(f)\n",
    "            d[\"g_nodes\"].append(data[\"stats\"][0])\n",
    "            d[\"g_edges\"].append(data[\"stats\"][1])\n",
    "            d[\"g_density\"].append(data[\"stats\"][2])\n",
    "            d[\"std_in\"].append(data[\"stats\"][3])\n",
    "            d[\"std_out\"].append(data[\"stats\"][4])\n",
    "            d[\"skew_in\"].append(data[\"stats\"][5])\n",
    "            d[\"skew_out\"].append(data[\"stats\"][6])\n",
    "            d[\"date\"].append(file[:10])\n",
    "            #print(data[\"stats\"])\n",
    "    with open(json_output, \"w\") as fi:\n",
    "        fi.write(json.dumps(d))\n",
    "    return d"
   ]
  },
  {
   "cell_type": "code",
   "execution_count": 72,
   "metadata": {},
   "outputs": [
    {
     "name": "stdout",
     "output_type": "stream",
     "text": [
      "--- 0.00196075439453125 seconds ---\n"
     ]
    }
   ],
   "source": [
    "import time\n",
    "start_time = time.time()\n",
    "\n",
    "\n",
    "core_dict = {}\n",
    "#np_files = np.array(os.listdir(\"../data/NET-btc-heur_0-week\"))\n",
    "files = os.listdir(\"../data/btc-stats\")\n",
    "directory = \"../data/btc-stats\"\n",
    "d = files_walker(files,\"test.json\", directory)\n",
    "\n",
    "\n",
    "print(\"--- %s seconds ---\" % (time.time() - start_time))"
   ]
  },
  {
   "cell_type": "code",
   "execution_count": 73,
   "metadata": {},
   "outputs": [
    {
     "data": {
      "text/plain": [
       "{'g_nodes': [8139, 9057, 9604, 12760, 15344, 52623, 89781, 79355],\n",
       " 'g_edges': [10650, 12824, 16109, 20370, 22750, 83685, 131252, 132219],\n",
       " 'g_density': [0.0001607906806989675,\n",
       "  0.0001563517432390307,\n",
       "  0.00017466645310713718,\n",
       "  0.00012511913036492036,\n",
       "  9.663457169892734e-05,\n",
       "  3.0220710248508144e-05,\n",
       "  1.628327998317353e-05,\n",
       "  2.099668578417562e-05],\n",
       " 'std_in': [8.830663995723082,\n",
       "  9.841709691724327,\n",
       "  12.370684792044814,\n",
       "  11.972249241230491,\n",
       "  8.58921388695821,\n",
       "  11.308983407926242,\n",
       "  13.53646255091552,\n",
       "  17.24663389315989],\n",
       " 'std_out': [13.280903428023365,\n",
       "  13.126945032769244,\n",
       "  15.313124319296001,\n",
       "  13.146210087642704,\n",
       "  10.641357520442405,\n",
       "  12.686461105866648,\n",
       "  30.906642636155464,\n",
       "  12.497676445153655],\n",
       " 'skew_in': [73.30271179195279,\n",
       "  74.56251153534902,\n",
       "  56.336938130672934,\n",
       "  58.806629436884826,\n",
       "  43.08895740740473,\n",
       "  94.43163281719538,\n",
       "  86.03209562258844,\n",
       "  103.85667285762212],\n",
       " 'skew_out': [63.767251197805024,\n",
       "  57.11964938177759,\n",
       "  52.49500570330531,\n",
       "  56.75773800588403,\n",
       "  67.87592187598176,\n",
       "  61.280197537525304,\n",
       "  192.64997004586832,\n",
       "  96.57349756516084],\n",
       " 'date': ['2012-04-28',\n",
       "  '2012-05-16',\n",
       "  '2012-06-03',\n",
       "  '2012-06-20',\n",
       "  '2012-07-14',\n",
       "  '2013-11-10',\n",
       "  '2014-03-13',\n",
       "  '2014-10-21']}"
      ]
     },
     "execution_count": 73,
     "metadata": {},
     "output_type": "execute_result"
    }
   ],
   "source": [
    "d"
   ]
  },
  {
   "cell_type": "code",
   "execution_count": null,
   "metadata": {},
   "outputs": [],
   "source": []
  }
 ],
 "metadata": {
  "kernelspec": {
   "display_name": "Python 3",
   "language": "python",
   "name": "python3"
  },
  "language_info": {
   "codemirror_mode": {
    "name": "ipython",
    "version": 3
   },
   "file_extension": ".py",
   "mimetype": "text/x-python",
   "name": "python",
   "nbconvert_exporter": "python",
   "pygments_lexer": "ipython3",
   "version": "3.7.7"
  }
 },
 "nbformat": 4,
 "nbformat_minor": 4
}
