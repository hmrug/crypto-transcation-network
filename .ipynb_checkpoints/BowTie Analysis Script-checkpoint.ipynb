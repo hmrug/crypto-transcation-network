{
 "cells": [
  {
   "cell_type": "code",
   "execution_count": 3,
   "metadata": {},
   "outputs": [],
   "source": [
    "import networkx as nx\n",
    "import numpy as np\n",
    "import os\n",
    "import io\n",
    "import json"
   ]
  },
  {
   "cell_type": "code",
   "execution_count": 16,
   "metadata": {},
   "outputs": [],
   "source": [
    "# algorithm inspired by https://github.com/jeroenvldj/bow-tie_detection/blob/master/bow-tie_detection.py\n",
    "\n",
    "def bowtie_analysis(G):\n",
    "    # reverse all direction of the graph\n",
    "    GT = nx.reverse(G, copy=True)\n",
    "    # calculate SSC\n",
    "    SSC = max(list(nx.strongly_connected_components(G)),key=len)    \n",
    "    \n",
    "    \n",
    "    # take any node n from SSC and do a depth first search \n",
    "    # through directed graph beginning from node n\n",
    "    v_any = list(SSC)[0]\n",
    "    DFS_G = set(nx.dfs_tree(G,v_any).nodes())\n",
    "    DFS_GT = set(nx.dfs_tree(GT,v_any).nodes())\n",
    "    OUT = DFS_G - SSC\n",
    "    IN = DFS_GT - SSC\n",
    "    V_rest = set(G.nodes()) - SSC - OUT - IN\n",
    "\n",
    "    TUBES = set()\n",
    "    INTENDRILS = set()\n",
    "    OUTTENDRILS = set()\n",
    "    OTHER = set()\n",
    "\n",
    "    for v in V_rest:\n",
    "        # irv => in reaches node v\n",
    "        irv = len(IN & set(nx.dfs_tree(GT,v).nodes())) is not 0\n",
    "        # vro => node v reaches out\n",
    "        vro = len(OUT & set(nx.dfs_tree(G,v).nodes())) is not 0\n",
    "        if irv and vro:\n",
    "            TUBES.add(v)\n",
    "        elif irv and not vro:\n",
    "            INTENDRILS.add(v)\n",
    "        elif not irv and vro:\n",
    "            OUTTENDRILS.add(v)\n",
    "        elif not irv and not vro:\n",
    "            OTHER.add(v)\n",
    "\n",
    "    FRINGE = set()\n",
    "    DISCONNECTED = set()\n",
    "    for o in OTHER:\n",
    "        # orIT => node o reaches INTENDRILS  \n",
    "        orIT = len(INTENDRILS & set(nx.dfs_tree(G,o))) is not 0\n",
    "        # OTro => OUTTERNDIRLS reaches node o\n",
    "        OTro = len(OUTTENDRILS & set(nx.dfs_tree(GT,o))) is not 0\n",
    "        if orIT or OTro:\n",
    "            FRINGE.add(o)\n",
    "        else:\n",
    "            DISCONNECTED.add(o)\n",
    "    \n",
    "    TENDRILS = INTENDRILS.union(OUTTENDRILS)\n",
    "    \n",
    "    def component_result(name, graph_nodes):\n",
    "        return{ name        : len(graph_nodes),\n",
    "                name + \"_s\" : sum([G.nodes()[node][\"is_sink\"] for node in graph_nodes]),\n",
    "                name + \"_m\" : sum([G.nodes()[node][\"is_miner\"] for node in graph_nodes])}\n",
    "\n",
    "    result_dict = dict()\n",
    "    result_dict.update(component_result(\"nodes\", G.nodes()))\n",
    "    result_dict.update(component_result(\"ssc\", SSC))\n",
    "    result_dict.update(component_result(\"in\", IN))\n",
    "    result_dict.update(component_result(\"out\",OUT))\n",
    "    result_dict.update(component_result(\"tubes\", TUBES))\n",
    "    result_dict.update(component_result(\"tendrils\", TENDRILS))\n",
    "    result_dict.update(component_result(\"fringe\", FRINGE))\n",
    "    result_dict.update(component_result(\"disconnected\", DISCONNECTED))\n",
    "    \n",
    "    return result_dict"
   ]
  },
  {
   "cell_type": "code",
   "execution_count": 18,
   "metadata": {},
   "outputs": [],
   "source": [
    "def files_walker(directory, json_output):\n",
    "    d = {}\n",
    "    files = os.listdir(directory)\n",
    "    for file in files:\n",
    "        with open(directory+'/'+file, 'r', encoding='utf8', errors='ignore') as f:\n",
    "            G = nx.read_graphml(f)\n",
    "            bowtie_dict = bowtie_analysis(G)\n",
    "            with open(json_output, \"r+\") as fi:\n",
    "                data = json.load(fi)\n",
    "                new_entry = {file[:-8] : bowtie_dict}\n",
    "                data.update(new_entry)\n",
    "                fi.seek(0)\n",
    "                json.dump(data, fi, indent=4)\n",
    "    return True"
   ]
  },
  {
   "cell_type": "code",
   "execution_count": 19,
   "metadata": {},
   "outputs": [
    {
     "data": {
      "text/plain": [
       "True"
      ]
     },
     "execution_count": 19,
     "metadata": {},
     "output_type": "execute_result"
    }
   ],
   "source": [
    "# run bow tie analysis\n",
    "json_output = \"test.json\"\n",
    "\n",
    "if not os.path.isfile(json_output):\n",
    "    with io.open(os.path.join(json_output), 'w') as db_file:\n",
    "        db_file.write(json.dumps({}))\n",
    "        \n",
    "files_walker(\"data/NET-btc-heur_0-week\", json_output)"
   ]
  }
 ],
 "metadata": {
  "kernelspec": {
   "display_name": "Python 3",
   "language": "python",
   "name": "python3"
  },
  "language_info": {
   "codemirror_mode": {
    "name": "ipython",
    "version": 3
   },
   "file_extension": ".py",
   "mimetype": "text/x-python",
   "name": "python",
   "nbconvert_exporter": "python",
   "pygments_lexer": "ipython3",
   "version": "3.7.1"
  }
 },
 "nbformat": 4,
 "nbformat_minor": 4
}
