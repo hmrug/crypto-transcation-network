{
 "cells": [
  {
   "cell_type": "code",
   "execution_count": 1,
   "metadata": {},
   "outputs": [],
   "source": [
    "import networkx as nx\n",
    "import numpy as np\n",
    "import os\n",
    "import json"
   ]
  },
  {
   "cell_type": "code",
   "execution_count": 2,
   "metadata": {},
   "outputs": [],
   "source": [
    "# algorithm inspired by https://github.com/jeroenvldj/bow-tie_detection/blob/master/bow-tie_detection.py\n",
    "\n",
    "def bowtie_analysis(G):\n",
    "    # reverse all direction of the graph\n",
    "    GT = nx.reverse(G, copy=True)\n",
    "    # calculate SSC\n",
    "    SSC = max(list(nx.strongly_connected_components(G)),key=len)    \n",
    "    \n",
    "    \n",
    "    # take any node n from SSC and do a depth first search \n",
    "    # through directed graph beginning from node n\n",
    "    v_any = list(SSC)[0]\n",
    "    DFS_G = set(nx.dfs_tree(G,v_any).nodes())\n",
    "    DFS_GT = set(nx.dfs_tree(GT,v_any).nodes())\n",
    "    OUT = DFS_G - SSC\n",
    "    IN = DFS_GT - SSC\n",
    "    V_rest = set(G.nodes()) - SSC - OUT - IN\n",
    "\n",
    "    TUBES = set()\n",
    "    INTENDRILS = set()\n",
    "    OUTTENDRILS = set()\n",
    "    OTHER = set()\n",
    "\n",
    "    for v in V_rest:\n",
    "        # irv => in reaches node v\n",
    "        irv = len(IN & set(nx.dfs_tree(GT,v).nodes())) is not 0\n",
    "        # vro => node v reaches out\n",
    "        vro = len(OUT & set(nx.dfs_tree(G,v).nodes())) is not 0\n",
    "        if irv and vro:\n",
    "            TUBES.add(v)\n",
    "        elif irv and not vro:\n",
    "            INTENDRILS.add(v)\n",
    "        elif not irv and vro:\n",
    "            OUTTENDRILS.add(v)\n",
    "        elif not irv and not vro:\n",
    "            OTHER.add(v)\n",
    "\n",
    "    FRINGE = set()\n",
    "    DISCONNECTED = set()\n",
    "    for o in OTHER:\n",
    "        # orIT => node o reaches INTENDRILS  \n",
    "        orIT = len(INTENDRILS & set(nx.dfs_tree(G,o))) is not 0\n",
    "        # OTro => OUTTERNDIRLS reaches node o\n",
    "        OTro = len(OUTTENDRILS & set(nx.dfs_tree(GT,o))) is not 0\n",
    "        if orIT or OTro:\n",
    "            FRINGE.add(o)\n",
    "        else:\n",
    "            DISCONNECTED.add(o)\n",
    "    \n",
    "    TENDRILS = INTENDRILS.union(OUTTENDRILS)\n",
    "    \n",
    "    result_dict = {}\n",
    "    result_dict[\"ssc\"] = round(len(SSC)/len(G),4)\n",
    "    result_dict[\"in\"] = round(len(IN)/len(G),4)\n",
    "    result_dict[\"out\"] = round(len(OUT)/len(G),4)\n",
    "    result_dict[\"tubes\"] = round(len(TUBES)/len(G),4)\n",
    "    result_dict[\"tendrils\"] = round(len(TENDRILS)/len(G),4)\n",
    "    result_dict[\"fringe\"] = round(len(FRINGE)/len(G),4)\n",
    "    result_dict[\"disconnected\"] = round(len(DISCONNECTED)/len(G),4)\n",
    "            \n",
    "    return result_dict"
   ]
  },
  {
   "cell_type": "code",
   "execution_count": 3,
   "metadata": {},
   "outputs": [],
   "source": [
    "def files_walker(directory):\n",
    "    d = {}\n",
    "    files = os.listdir(directory)\n",
    "    for i in range(len(files)):\n",
    "        with open(directory+'/'+files[i], 'r', encoding='utf8', errors='ignore') as f:\n",
    "            G = nx.read_graphml(f)\n",
    "            bowtie_dict = bowtie_analysis(G)\n",
    "            d[files[i][:10]] = bowtie_dict\n",
    "    return d"
   ]
  },
  {
   "cell_type": "code",
   "execution_count": 4,
   "metadata": {},
   "outputs": [],
   "source": [
    "result_dict = files_walker(\"data/NET-btc-heur_0-week\")\n",
    "with open(\"result.json\", \"w\") as outfile:  \n",
    "    json.dump(result_dict, outfile) "
   ]
  }
 ],
 "metadata": {
  "kernelspec": {
   "display_name": "Python 3",
   "language": "python",
   "name": "python3"
  },
  "language_info": {
   "codemirror_mode": {
    "name": "ipython",
    "version": 3
   },
   "file_extension": ".py",
   "mimetype": "text/x-python",
   "name": "python",
   "nbconvert_exporter": "python",
   "pygments_lexer": "ipython3",
   "version": "3.7.7"
  }
 },
 "nbformat": 4,
 "nbformat_minor": 4
}
