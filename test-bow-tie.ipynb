{
 "cells": [
  {
   "cell_type": "code",
   "execution_count": 1,
   "metadata": {},
   "outputs": [],
   "source": [
    "import os\n",
    "import networkx as nx\n",
    "import numpy as np"
   ]
  },
  {
   "cell_type": "code",
   "execution_count": 2,
   "metadata": {},
   "outputs": [],
   "source": [
    "g = nx.read_graphml('data/NET-btc-heur_0-week/2010-09-06.graphml')"
   ]
  },
  {
   "cell_type": "code",
   "execution_count": null,
   "metadata": {},
   "outputs": [],
   "source": []
  },
  {
   "cell_type": "code",
   "execution_count": 14,
   "metadata": {},
   "outputs": [],
   "source": [
    "\n",
    "def bow_tie(g):\n",
    "    \n",
    "    #set states for different groups\n",
    "    disconnected = 0\n",
    "    in_node = 1\n",
    "    out_node = 2\n",
    "    tendril = 3\n",
    "    tube = 4\n",
    "    fringe = 5\n",
    "    ssc = 6\n",
    "\n",
    "    # set state of all nodes to None\n",
    "    for i in g.nodes():\n",
    "        g.nodes[i][\"state\"] = None\n",
    "\n",
    "    # calculate ssc\n",
    "    strongly_connected = max(nx.strongly_connected_components(g), key=len)\n",
    "\n",
    "    for node in strongly_connected:\n",
    "        g.nodes[node][\"state\"] = ssc\n",
    "        # get all out nodes by looking at succesors from ssc\n",
    "        for out in g.successors(node):\n",
    "            if g.nodes[out][\"state\"] == None:\n",
    "                g.nodes[out][\"state\"] = out_node\n",
    "        \n",
    "        # get all in nodes by looking at predecessors from ssc\n",
    "        for into in g.predecessors(node):\n",
    "            if g.nodes[into][\"state\"] == None:\n",
    "                g.nodes[into][\"state\"] = in_node\n",
    "    \n",
    "    # after calculating in, out and ssc next step was get tube, fringe and tendril\n",
    "    \n",
    "    for node in g.nodes():\n",
    "        if g.nodes[node][\"state\"] == in_node:\n",
    "            # go through successors and do disctinction of ssc, tube and tendril\n",
    "            for tend_from_in in g.successors(node):\n",
    "                if g.nodes[tend_from_in][\"state\"] != ssc:\n",
    "                    for tube_opt in g.successors(tend_from_in):\n",
    "                        # check if tendril is connected to out to get all tube and assign them\n",
    "                        if g.nodes[tube_opt][\"state\"] == out_node:\n",
    "                            g.nodes[tube_opt][\"state\"] = tube\n",
    "                    # loop through tendril to get first half of all fringe\n",
    "                    g.nodes[tend_from_in][\"state\"] = tendril\n",
    "                    for fringe_in in g.predecessors(tend_from_in):\n",
    "                        if g.nodes[fringe_in][\"state\"] != in_node:\n",
    "                            g.nodes[fringe_in][\"state\"] = fringe\n",
    "\n",
    "        if g.nodes[node][\"state\"] == out_node:\n",
    "            # go through predecessors and do disctionction of ssc, tube and tendril\n",
    "            for tend_to_out in g.predecessors(node):\n",
    "                # sort out all ssc and tubes and assign to tendril(_to_out)\n",
    "                if g.nodes[tend_to_out][\"state\"] != ssc:\n",
    "                    if g.nodes[tend_to_out][\"state\"] != tube:\n",
    "                        g.nodes[tend_to_out][\"state\"] = tendril\n",
    "                        # loop through tend to outs to get the second part of all fringe\n",
    "                        for fringe_out in g.successors(tend_to_out):\n",
    "                            if g.nodes[fringe_out][\"state\"] != out_node:\n",
    "                                g.nodes[fringe_out][\"state\"] = fringe\n",
    "\n",
    "        # assign all not assigned nodes as disconnected\n",
    "        if g.nodes[node][\"state\"] == None:\n",
    "            g.nodes[node][\"state\"] = disconnected\n",
    "            \n",
    "    in_list = np.where([g.nodes[i]['state'] == in_node for i in g.nodes()])[0]\n",
    "    out_list = np.where([g.nodes[i]['state'] == out_node for i in g.nodes()])[0]\n",
    "    ssc_list = np.where([g.nodes[i]['state'] == ssc for i in g.nodes()])[0]\n",
    "    disc_list = np.where([g.nodes[i]['state'] == disconnected for i in g.nodes()])[0]\n",
    "    tube_list = np.where([g.nodes[i]['state'] == tube for i in g.nodes()])[0]\n",
    "    tendril_list = np.where([g.nodes[i]['state'] == tendril for i in g.nodes()])[0]\n",
    "    fringe_list = np.where([g.nodes[i]['state'] == fringe for i in g.nodes()])[0]\n",
    "    \n",
    "    return (round(len(in_list)/len(g),4),\n",
    "            round(len(out_list)/len(g),4),\n",
    "            round(len(ssc_list)/len(g),4),\n",
    "            round(len(disc_list)/len(g),4), \n",
    "            round(len(tendril_list)/len(g),4), \n",
    "            round(len(tube_list)/len(g),4), \n",
    "            round(len(fringe_list)/len(g),4))"
   ]
  },
  {
   "cell_type": "code",
   "execution_count": 11,
   "metadata": {},
   "outputs": [],
   "source": [
    "test = bow_tie(g)"
   ]
  },
  {
   "cell_type": "code",
   "execution_count": 12,
   "metadata": {},
   "outputs": [
    {
     "data": {
      "text/plain": [
       "(0.0013, 0.0638, 0.0721, 0.8452, 0.0114, 0.0, 0.0062)"
      ]
     },
     "execution_count": 12,
     "metadata": {},
     "output_type": "execute_result"
    }
   ],
   "source": [
    "test"
   ]
  },
  {
   "cell_type": "code",
   "execution_count": 13,
   "metadata": {},
   "outputs": [
    {
     "data": {
      "text/plain": [
       "0.9999999999999999"
      ]
     },
     "execution_count": 13,
     "metadata": {},
     "output_type": "execute_result"
    }
   ],
   "source": [
    "sum(test)"
   ]
  }
 ],
 "metadata": {
  "kernelspec": {
   "display_name": "Python 3",
   "language": "python",
   "name": "python3"
  },
  "language_info": {
   "codemirror_mode": {
    "name": "ipython",
    "version": 3
   },
   "file_extension": ".py",
   "mimetype": "text/x-python",
   "name": "python",
   "nbconvert_exporter": "python",
   "pygments_lexer": "ipython3",
   "version": "3.7.7"
  }
 },
 "nbformat": 4,
 "nbformat_minor": 4
}
